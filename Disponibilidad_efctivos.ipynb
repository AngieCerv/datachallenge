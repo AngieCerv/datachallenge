{
 "cells": [
  {
   "cell_type": "code",
   "execution_count": 1,
   "metadata": {},
   "outputs": [],
   "source": [
    "import pandas as pd"
   ]
  },
  {
   "cell_type": "code",
   "execution_count": 4,
   "metadata": {},
   "outputs": [],
   "source": [
    "df = pd.read_csv('Saldos_Atms_Sucursales.csv', sep='|')"
   ]
  },
  {
   "cell_type": "code",
   "execution_count": 9,
   "metadata": {},
   "outputs": [
    {
     "data": {
      "text/plain": [
       "CR              200\n",
       "ATM             200\n",
       "SUCURSAL        200\n",
       "DIVISION        200\n",
       "ZONA            200\n",
       "CAS_1           200\n",
       "CAS_2           200\n",
       "CAS_3           200\n",
       "CAS_4           200\n",
       "PIEZAS_CAS_1    200\n",
       "PIEZAS_CAS_2    200\n",
       "PIEZAS_CAS_3    200\n",
       "PIEZAS_CAS_4    200\n",
       "MINIMO          200\n",
       "dtype: int64"
      ]
     },
     "execution_count": 9,
     "metadata": {},
     "output_type": "execute_result"
    }
   ],
   "source": [
    "df.isnull().sum()"
   ]
  },
  {
   "cell_type": "code",
   "execution_count": 6,
   "metadata": {},
   "outputs": [],
   "source": [
    "##cantidad en cas\n",
    "def total_casetas(cas, pieces):\n",
    "    total_cas = cas * pieces\n",
    "    return total_cas"
   ]
  },
  {
   "cell_type": "code",
   "execution_count": null,
   "metadata": {},
   "outputs": [],
   "source": []
  }
 ],
 "metadata": {
  "kernelspec": {
   "display_name": "Python 3",
   "language": "python",
   "name": "python3"
  },
  "language_info": {
   "codemirror_mode": {
    "name": "ipython",
    "version": 3
   },
   "file_extension": ".py",
   "mimetype": "text/x-python",
   "name": "python",
   "nbconvert_exporter": "python",
   "pygments_lexer": "ipython3",
   "version": "3.8.5"
  }
 },
 "nbformat": 4,
 "nbformat_minor": 4
}
